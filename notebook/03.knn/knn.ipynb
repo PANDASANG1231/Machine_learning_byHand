{
 "cells": [
  {
   "cell_type": "code",
   "execution_count": 2,
   "metadata": {},
   "outputs": [],
   "source": [
    "import os\n",
    "import sys\n",
    "import copy\n",
    "import numpy as np\n",
    "from scipy import stats\n",
    "import pandas as pd\n",
    "from sklearn.model_selection import train_test_split\n",
    "from sklearn.metrics import roc_auc_score\n",
    "\n",
    "\n",
    "import warnings\n",
    "warnings.filterwarnings(\"ignore\")\n",
    "%load_ext autoreload\n",
    "%autoreload 2\n",
    "sys.path.append(\"./../../src\")\n",
    "\n",
    "from load_data import gen_data"
   ]
  },
  {
   "cell_type": "code",
   "execution_count": 2,
   "metadata": {},
   "outputs": [],
   "source": [
    "data = pd.read_csv(\"./../../data/fraud_detection_bank_dataset.csv\")\n",
    "col_names = [f\"col_{i}\" for i in range(111)]\n",
    "col_names_naive = [x for x in col_names if len(data[x].value_counts().keys()) < 10]\n",
    "target = \"targets\""
   ]
  },
  {
   "cell_type": "code",
   "execution_count": 3,
   "metadata": {},
   "outputs": [],
   "source": [
    "train_data, test_data = train_test_split(data, train_size=0.8, random_state=123)\n",
    "X_train, y_train = train_data[col_names_naive].values, train_data[target].values\n",
    "X_test, y_test = test_data[col_names_naive].values, test_data[target].values"
   ]
  },
  {
   "cell_type": "code",
   "execution_count": 4,
   "metadata": {},
   "outputs": [],
   "source": [
    "def accuracy(y, y_hat):\n",
    "    \n",
    "    return (y == y_hat).sum() / len(y)"
   ]
  },
  {
   "cell_type": "markdown",
   "metadata": {},
   "source": [
    "## KNN Origin"
   ]
  },
  {
   "cell_type": "code",
   "execution_count": 5,
   "metadata": {},
   "outputs": [],
   "source": [
    "class KNN():\n",
    "    \n",
    "    @staticmethod\n",
    "    def distance(p1, p2):\n",
    "        \n",
    "        if p1 is None or p2 is None:\n",
    "            return 0\n",
    "        return ((p2 - p1) ** 2).sum() ** 0.5\n",
    "    \n",
    "    def __init__(self, top_k = 3):\n",
    "        \n",
    "        self.top_k = top_k\n",
    "        \n",
    "    def fit(self, X_train, y_train):\n",
    "        \n",
    "        self.X_train = X_train\n",
    "        self.y_train = y_train\n",
    "        \n",
    "    def predict(self, X_test):\n",
    "        \n",
    "        dist = []\n",
    "        for X, y in zip(X_train, y_train):\n",
    "            \n",
    "            dist.append((self.distance(X_test, X), y))\n",
    "            \n",
    "        rst = sorted(dist, key=lambda x:x[0])[0:self.top_k]\n",
    "        \n",
    "        # return rst\n",
    "        return stats.mode([x[1] for x in rst])[0][0]\n",
    "        \n",
    "        "
   ]
  },
  {
   "cell_type": "code",
   "execution_count": 6,
   "metadata": {},
   "outputs": [],
   "source": [
    "knn = KNN(3)\n",
    "\n",
    "knn.fit(X_train, y_train)"
   ]
  },
  {
   "cell_type": "code",
   "execution_count": 7,
   "metadata": {},
   "outputs": [],
   "source": [
    "y_test_hat = np.apply_along_axis(knn.predict, axis=1, arr=X_test)"
   ]
  },
  {
   "cell_type": "code",
   "execution_count": 8,
   "metadata": {},
   "outputs": [
    {
     "name": "stdout",
     "output_type": "stream",
     "text": [
      "Test confusion matrix: \n",
      " [[2751  296]\n",
      " [ 354  693]]\n",
      "\n",
      "Test precision:  0.7007077856420627\n",
      "Test recall:  0.66189111747851\n",
      "Test F1:  0.6807465618860511\n",
      "Test accuracy:  0.8412310698583293\n"
     ]
    }
   ],
   "source": [
    "import matplotlib.pyplot as plt\n",
    "from sklearn.metrics import confusion_matrix, precision_score, recall_score, f1_score, accuracy_score\n",
    "\n",
    "print(\"Test confusion matrix: \\n\", confusion_matrix(y_test, y_test_hat))\n",
    "print(\"\\nTest precision: \", precision_score(y_test, y_test_hat))\n",
    "print(\"Test recall: \", recall_score(y_test, y_test_hat))\n",
    "print(\"Test F1: \", f1_score(y_test, y_test_hat))\n",
    "print(\"Test accuracy: \", accuracy_score(y_test, y_test_hat))"
   ]
  },
  {
   "cell_type": "markdown",
   "metadata": {},
   "source": [
    "## KNN (Kd Tree)\n",
    "\n",
    "### kd tree"
   ]
  },
  {
   "cell_type": "code",
   "execution_count": 192,
   "metadata": {},
   "outputs": [
    {
     "data": {
      "text/plain": [
       "(100000, 5)"
      ]
     },
     "execution_count": 192,
     "metadata": {},
     "output_type": "execute_result"
    }
   ],
   "source": [
    "X_train = gen_data(0, 5, 100000, 5, seed=123)\n",
    "\n",
    "np.shape(X_train)"
   ]
  },
  {
   "cell_type": "code",
   "execution_count": 233,
   "metadata": {},
   "outputs": [],
   "source": [
    "class Node():\n",
    "    \n",
    "    def __init__(self):\n",
    "        self.father = None\n",
    "        self.left = None\n",
    "        self.right = None\n",
    "        self.feature = None\n",
    "        self.split = None\n",
    "        \n",
    "    def _str_(self):\n",
    "        feature, split = self.feature, self.split\n",
    "        print(f\"Feature:{feature}, Split_value:{split}\")\n",
    "        \n",
    "    @property\n",
    "    def brother(self):\n",
    "        if self.father is None:\n",
    "            ret = None\n",
    "        else:\n",
    "            if self.father.left is self:\n",
    "                ret = self.father.right\n",
    "            else:\n",
    "                ret = self.father.left\n",
    "        return ret\n",
    "    \n",
    "    \n",
    "class KDTree():\n",
    "    \n",
    "    def __init__(self, k=3):\n",
    "        self.root = Node\n",
    "        self.k = k\n",
    "        \n",
    "    @staticmethod\n",
    "    def distance(p1, p2):\n",
    "        if p1 is None or p2 is None:\n",
    "            return 0\n",
    "        return ((p2 - p1) ** 2).sum() ** 0.5\n",
    "    \n",
    "    @staticmethod\n",
    "    def _split_feat(X):\n",
    "        \n",
    "        feat_idx = np.argmax(X.var(axis=0))\n",
    "        # print(len(X), feat_idx)\n",
    "\n",
    "        if len(X) % 2 == 0:\n",
    "            mid = int(len(X) / 2) - 1\n",
    "        else:\n",
    "            mid = int(len(X) / 2 - 0.5)\n",
    "        \n",
    "        X_sort = X[X[:,feat_idx].argsort()]\n",
    "        split = X_sort[:][mid]\n",
    "        X_left = X_sort[:mid]\n",
    "        X_right = X_sort[mid+1:]\n",
    "        \n",
    "        return feat_idx, split, X_left, X_right\n",
    "    \n",
    "    def _search(self, X_i, node):\n",
    "        \n",
    "        \"\"\"\n",
    "        Search Xi from the KDTree until Xi is at an leafnode.\n",
    "        \n",
    "        Arguments:\n",
    "            Xi[list] -- 1d list with int or float.\n",
    "        \n",
    "        Returns:\n",
    "            node -- Leafnode.\n",
    "        \"\"\"\n",
    "        \n",
    "        while node.left or node.right:\n",
    "\n",
    "            # print(\"feat_idx:{}, Xi value:{}, Node value:{}\".format(node.feature, X_i[node.feature], node.split))\n",
    "                    \n",
    "            if node.left is None:\n",
    "                node = node.right\n",
    "                direct = 'right'\n",
    "            elif node.right is None:\n",
    "                node = node.left\n",
    "                direct = 'left'\n",
    "            else:\n",
    "                if X_i[node.feature] < node.split[node.feature]:\n",
    "                    node = node.left\n",
    "                    direct = 'left'\n",
    "                else:\n",
    "                    node = node.right\n",
    "                    direct = 'right'\n",
    "                    \n",
    "            # print(f\"searching path turn {direct}\")\n",
    "        \n",
    "        # print(\"feat_idx:{}, Xi value:{}, Node value:{}\".format(node.feature, X_i[node.feature], node.split))\n",
    "        return node\n",
    "    \n",
    "    def _get_dist_eu(self, X_i, node):\n",
    "        \n",
    "        \"\"\"\n",
    "        Calculate euclidean distance between Xi and node.\n",
    "        \n",
    "        Arguments:\n",
    "            Xi[list] -- 1d list with int or float.\n",
    "            nd[node]\n",
    "            \n",
    "        Returns:\n",
    "            float -- Euclidean distance.\n",
    "        \"\"\"\n",
    "\n",
    "        \n",
    "        return self.distance(X_i, node.split)\n",
    "    \n",
    "    def _get_dist_hyper(self, X_i, node):\n",
    "        \n",
    "        \"\"\"\n",
    "        Calculate euclidean distance between Xi and hyper plane.\n",
    "        \n",
    "        Arguments:\n",
    "            Xi[list] -- 1d list with int or float.\n",
    "            nd[node]\n",
    "            \n",
    "        Returns:\n",
    "            float -- Euclidean distance.\n",
    "        \"\"\"\n",
    "        \n",
    "        feat_idx = node.feature\n",
    "        \n",
    "        return abs(X_i[feat_idx] - node.split[feat_idx])\n",
    "    \n",
    "    def _backtrace(self, X_i, node, root):\n",
    "        \n",
    "        \"\"\"\n",
    "        Backtrace node from the KDTree begining with the leafnode.\n",
    "        \n",
    "        Arguments:\n",
    "            Xi]list] -- 1d list with int or float.\n",
    "        \n",
    "        Returns:\n",
    "            node -- The nearest node to Xi.\n",
    "        \"\"\"\n",
    "        \n",
    "        dist_max = self.kbest[-1][1]\n",
    "        # print(X_i, node.split, root.split)\n",
    "        \n",
    "        while node is not root:\n",
    "                        \n",
    "            dist = self._get_dist_eu(X_i, node)\n",
    "            # print(self.kbest, dist, dist_max)\n",
    "\n",
    "            if dist < dist_max:\n",
    "                self.kbest[-1][1] = dist\n",
    "                self.kbest[-1][0] = node\n",
    "                self.kbest = sorted(self.kbest, key=lambda x:x[1])\n",
    "                dist_max = self.kbest[-1][1]\n",
    "                        \n",
    "            node_father = node.father\n",
    "            \n",
    "            if self._get_dist_hyper(X_i, node_father) <= dist_max:\n",
    "                return [(node.brother, node.brother, \"f\"), (node_father, root, \"b\")]\n",
    "            else:\n",
    "                node = node_father\n",
    "            \n",
    "        dist = self._get_dist_eu(X_i, node)\n",
    "        if dist < dist_max:\n",
    "            self.kbest[-1][1] = dist\n",
    "            self.kbest[-1][0] = node\n",
    "            self.kbest = sorted(self.kbest, key=lambda x:x[1])\n",
    "        return []\n",
    "    \n",
    "    def show(self):\n",
    "        \n",
    "        queue = [self.root]\n",
    "        \n",
    "        while queue:\n",
    "            nd = queue.pop(0)\n",
    "            feature, split = nd.feature, nd.split\n",
    "            print(f\"Feature:{feature}, Split_value:{split}\")\n",
    "            if nd.left is not None:\n",
    "                queue.append(nd.left)\n",
    "            if nd.right is not None:\n",
    "                queue.append(nd.right)\n",
    "                \n",
    "    def stat_tree(self):\n",
    "        \n",
    "        queue = [(self.root, 0)]\n",
    "        max_depth = -1\n",
    "        leaf_num = 0\n",
    "        \n",
    "        while queue:\n",
    "            \n",
    "            node, depth = queue.pop(0)\n",
    "            \n",
    "            if depth > max_depth:\n",
    "                max_depth = depth\n",
    "                \n",
    "            if node.left is not None:\n",
    "                queue.append((node.left, depth+1))    \n",
    "            \n",
    "            if node.right is not None:\n",
    "                queue.append((node.right, depth+1))\n",
    "                \n",
    "            if node.left is None and node.right is None:\n",
    "                leaf_num += 1\n",
    "            \n",
    "        print(f\"Max_depth of KD-tree: {max_depth}, Leaf number of KD-tree: {leaf_num}\")\n",
    "\n",
    "    \n",
    "    def build_tree(self, X):\n",
    "        \n",
    "        nd = self.root\n",
    "        queue = [(nd, X)]\n",
    "        \n",
    "        while queue:\n",
    "            \n",
    "            nd, X = queue.pop(0)\n",
    "            nd.feature, nd.split, X_left, X_right = self._split_feat(X)\n",
    "            # print(nd.feature, nd.split, len(X_left), len(X_right))\n",
    "            \n",
    "            if len(X_left) != 0:\n",
    "                nd.left = Node()\n",
    "                nd.left.father = nd\n",
    "                queue.append((nd.left, X_left))\n",
    "\n",
    "            if len(X_right) != 0:\n",
    "                nd.right = Node()\n",
    "                nd.right.father = nd\n",
    "                queue.append((nd.right, X_right))\n",
    "    \n",
    "    def search_knearest(self, X_i):\n",
    "        \n",
    "        self.kbest = [[None, np.inf] for _ in range(self.k)]\n",
    "        \n",
    "        node = self.root\n",
    "        queue = [(node, node, \"f\")]\n",
    "        \n",
    "        while queue:\n",
    "    \n",
    "            current, root, sign = queue.pop(0)\n",
    "            \n",
    "            if current is None:\n",
    "                continue\n",
    "            \n",
    "            if sign == \"f\":\n",
    "                current = self._search(X_i, current)\n",
    "                queue += self._backtrace(X_i, current, root)\n",
    "            elif sign == \"b\":\n",
    "                queue += self._backtrace(X_i, current, root)\n",
    "            \n",
    "            # print(self.kbest)\n",
    "            \n",
    "            \n",
    "\n",
    "def exhuast_search(X_i, X_train):\n",
    "    \n",
    "    def distance(p1, p2):\n",
    "        if p1 is None or p2 is None:\n",
    "            return 0\n",
    "        return ((p2 - p1) ** 2).sum() ** 0.5\n",
    "\n",
    "    ds = []\n",
    "    for i in X_train:\n",
    "        d = distance(i, X_i)\n",
    "        ds.append([X_i, i, d])\n",
    "        \n",
    "    ds = sorted(ds, key=lambda x:x[2])\n",
    "    \n",
    "    return ds"
   ]
  },
  {
   "cell_type": "code",
   "execution_count": 209,
   "metadata": {},
   "outputs": [
    {
     "name": "stdout",
     "output_type": "stream",
     "text": [
      "Max_depth of KD-tree: 16, Leaf number of KD-tree: 34465\n"
     ]
    }
   ],
   "source": [
    "kd_tree = KDTree()\n",
    "\n",
    "kd_tree.build_tree(X_train)\n",
    "\n",
    "kd_tree.stat_tree()"
   ]
  },
  {
   "cell_type": "code",
   "execution_count": 242,
   "metadata": {},
   "outputs": [
    {
     "name": "stdout",
     "output_type": "stream",
     "text": [
      "Result of KD search ...\n",
      "Time consumption:0.00177001953125\n"
     ]
    },
    {
     "data": {
      "text/plain": [
       "[(array([4.03575737, 0.21556775, 0.58024099, 3.52590948, 1.07922126]),\n",
       "  array([4.03575737, 0.21556775, 0.58024099, 3.52590948, 1.07922126]),\n",
       "  0.0),\n",
       " (array([4.03575737, 0.21556775, 0.58024099, 3.52590948, 1.07922126]),\n",
       "  array([4.15601748, 0.12244636, 0.68060961, 3.84554221, 0.87326287]),\n",
       "  0.4216537487305415),\n",
       " (array([4.03575737, 0.21556775, 0.58024099, 3.52590948, 1.07922126]),\n",
       "  array([4.24272338, 0.04182306, 0.70054421, 3.22343662, 1.11963879]),\n",
       "  0.42499225830722237)]"
      ]
     },
     "metadata": {},
     "output_type": "display_data"
    },
    {
     "name": "stdout",
     "output_type": "stream",
     "text": [
      "\n",
      "Result of violate search ...\n",
      "Time consumption:0.782447099685669\n"
     ]
    },
    {
     "data": {
      "text/plain": [
       "[[array([4.03575737, 0.21556775, 0.58024099, 3.52590948, 1.07922126]),\n",
       "  array([4.03575737, 0.21556775, 0.58024099, 3.52590948, 1.07922126]),\n",
       "  0.0],\n",
       " [array([4.03575737, 0.21556775, 0.58024099, 3.52590948, 1.07922126]),\n",
       "  array([4.15601748, 0.12244636, 0.68060961, 3.84554221, 0.87326287]),\n",
       "  0.4216537487305415],\n",
       " [array([4.03575737, 0.21556775, 0.58024099, 3.52590948, 1.07922126]),\n",
       "  array([4.24272338, 0.04182306, 0.70054421, 3.22343662, 1.11963879]),\n",
       "  0.42499225830722237]]"
      ]
     },
     "metadata": {},
     "output_type": "display_data"
    }
   ],
   "source": [
    "import time\n",
    "\n",
    "print(\"Result of KD search ...\")\n",
    "\n",
    "X_i = X_train[1100]\n",
    "\n",
    "time1 = time.time()\n",
    "kd_tree.search_knearest(X_i)\n",
    "time2 = time.time()\n",
    "print(\"Time consumption:{}\".format(time2 - time1))\n",
    "display([(X_i, x[0].split, x[1]) for x in kd_tree.kbest])\n",
    "\n",
    "print(\"\\r\\nResult of violate search ...\")\n",
    "time1 = time.time()\n",
    "sds = exhuast_search(X_i, X_train)[:3]\n",
    "time2 = time.time()\n",
    "print(\"Time consumption:{}\".format(time2 - time1))\n",
    "display(sds)\n"
   ]
  },
  {
   "cell_type": "code",
   "execution_count": 243,
   "metadata": {},
   "outputs": [
    {
     "name": "stdout",
     "output_type": "stream",
     "text": [
      "Test Result: All samples num is 25, Correct/Failure:25/0\n"
     ]
    }
   ],
   "source": [
    "X_is = gen_data(0, 5, 25, 5, seed=560)\n",
    "\n",
    "fail_sum, succ_sum = 0, 0\n",
    "\n",
    "for idx, X_i in enumerate(X_is):\n",
    "\n",
    "    rst1 = exhuast_search(X_i, X_train)[:3]\n",
    "    kd_tree.search_knearest(X_i)\n",
    "    rst2 = [[X_i, x[0].split, x[1]] for x in kd_tree.kbest]\n",
    "    \n",
    "    if sum([str(xx) == str(yy) for xx, yy in zip(rst1, rst2)]) != 3:\n",
    "        fail_sum += 1\n",
    "    else:\n",
    "        succ_sum += 1\n",
    "        \n",
    "print(\"Test Result: All samples num is {}, Correct/Failure:{}/{}\".format(fail_sum + succ_sum, succ_sum, fail_sum))\n",
    "        \n",
    "    "
   ]
  },
  {
   "cell_type": "code",
   "execution_count": 248,
   "metadata": {},
   "outputs": [
    {
     "name": "stdout",
     "output_type": "stream",
     "text": [
      "2.65 ms ± 57.6 µs per loop (mean ± std. dev. of 7 runs, 100 loops each)\n"
     ]
    }
   ],
   "source": [
    "%%timeit\n",
    "\n",
    "X_is = gen_data(0, 5, 1, 5)\n",
    "  \n",
    "kd_tree.search_knearest(X_i)\n",
    "rst2 = kd_tree.kbest"
   ]
  },
  {
   "cell_type": "code",
   "execution_count": 249,
   "metadata": {},
   "outputs": [
    {
     "name": "stdout",
     "output_type": "stream",
     "text": [
      "644 ms ± 12.1 ms per loop (mean ± std. dev. of 7 runs, 1 loop each)\n"
     ]
    }
   ],
   "source": [
    "%%timeit\n",
    "\n",
    "X_is = gen_data(0, 5, 1, 5)\n",
    "  \n",
    "rst1 = exhuast_search(X_i, X_train)[:3]"
   ]
  }
 ],
 "metadata": {
  "interpreter": {
   "hash": "31f2aee4e71d21fbe5cf8b01ff0e069b9275f58929596ceb00d14d90e3e16cd6"
  },
  "kernelspec": {
   "display_name": "Python 3.8.2 64-bit",
   "language": "python",
   "name": "python3"
  },
  "language_info": {
   "codemirror_mode": {
    "name": "ipython",
    "version": 3
   },
   "file_extension": ".py",
   "mimetype": "text/x-python",
   "name": "python",
   "nbconvert_exporter": "python",
   "pygments_lexer": "ipython3",
   "version": "3.9.7"
  },
  "orig_nbformat": 4
 },
 "nbformat": 4,
 "nbformat_minor": 2
}
